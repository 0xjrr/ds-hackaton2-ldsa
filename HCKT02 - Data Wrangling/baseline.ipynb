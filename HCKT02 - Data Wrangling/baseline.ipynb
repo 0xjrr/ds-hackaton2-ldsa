{
 "cells": [
  {
   "cell_type": "code",
   "execution_count": 1,
   "metadata": {},
   "outputs": [],
   "source": [
    "# from utils import EMA, ROC, MOM, RSI, STOK, MA"
   ]
  },
  {
   "cell_type": "code",
   "execution_count": 2,
   "metadata": {},
   "outputs": [],
   "source": [
    "import pandas as pd"
   ]
  },
  {
   "cell_type": "code",
   "execution_count": 3,
   "metadata": {},
   "outputs": [],
   "source": [
    "import numpy as np"
   ]
  },
  {
   "cell_type": "code",
   "execution_count": 4,
   "metadata": {},
   "outputs": [],
   "source": [
    "import sklearn"
   ]
  },
  {
   "cell_type": "code",
   "execution_count": 5,
   "metadata": {},
   "outputs": [],
   "source": [
    "from sklearn.model_selection import train_test_split"
   ]
  },
  {
   "cell_type": "code",
   "execution_count": 6,
   "metadata": {},
   "outputs": [],
   "source": [
    "from sklearn.ensemble import RandomForestClassifier"
   ]
  },
  {
   "cell_type": "code",
   "execution_count": 7,
   "metadata": {},
   "outputs": [],
   "source": [
    "from sklearn.preprocessing import StandardScaler"
   ]
  },
  {
   "cell_type": "code",
   "execution_count": 8,
   "metadata": {},
   "outputs": [],
   "source": [
    "from sklearn.metrics import roc_auc_score"
   ]
  },
  {
   "cell_type": "code",
   "execution_count": 9,
   "metadata": {},
   "outputs": [],
   "source": [
    "def EMA(df, n):\n",
    "    EMA = pd.Series(df['close'].ewm(span=n, min_periods=n).mean(), name='EMA_' + str(n))\n",
    "    return EMA\n",
    "\n",
    "#calculation of rate of change\n",
    "def ROC(df, n):  \n",
    "    M = df.diff(n - 1)  \n",
    "    N = df.shift(n - 1)  \n",
    "    ROC = pd.Series(((M / N) * 100), name = 'ROC_' + str(n))   \n",
    "    return ROC\n",
    "\n",
    "#Calculation of price momentum\n",
    "def MOM(df, n):   \n",
    "    MOM = pd.Series(df.diff(n), name='Momentum_' + str(n))   \n",
    "    return MOM\n",
    "\n",
    "#calculation of relative strength index\n",
    "def RSI(series, period):\n",
    "    delta = series.diff().dropna()\n",
    "    u = delta * 0\n",
    "    d = u.copy()\n",
    "    u[delta > 0] = delta[delta > 0]\n",
    "    d[delta < 0] = -delta[delta < 0]\n",
    "    u[u.index[period-1]] = np.mean( u[:period] ) #first value is sum of avg gains\n",
    "    u = u.drop(u.index[:(period-1)])\n",
    "    d[d.index[period-1]] = np.mean( d[:period] ) #first value is sum of avg losses\n",
    "    d = d.drop(d.index[:(period-1)])\n",
    "    rs = u.ewm(com=period-1, adjust=False).mean() / \\\n",
    "    d.ewm(com=period-1, adjust=False).mean()\n",
    "    return 100 - 100 / (1 + rs)\n",
    "\n",
    "#calculation of stochastic osillator.\n",
    "\n",
    "def STOK(close, low, high, n): \n",
    "    STOK = ((close - low.rolling(n).min()) / (high.rolling(n).max() - low.rolling(n).min())) * 100\n",
    "    return STOK\n",
    "\n",
    "def STOD(close, low, high, n):\n",
    "    STOK = ((close - low.rolling(n).min()) / (high.rolling(n).max() - low.rolling(n).min())) * 100\n",
    "    STOD = STOK.rolling(3).mean()\n",
    "    return STOD\n",
    "\n",
    "#Calculation of moving average\n",
    "def MA(df, n):\n",
    "    MA = pd.Series(df['close'].rolling(n, min_periods=n).mean(), name='MA_' + str(n))\n",
    "    return MA\n",
    "\n",
    "# Backtest results\n",
    "#Create column for Strategy Returns by multiplying the daily returns by the position that was held at close\n",
    "#of business the previous day\n",
    "def backtest(X_validation, Y_validation, predictions):\n",
    "    backtestdata = pd.DataFrame(index=X_validation.index)\n",
    "    backtestdata['signal_pred'] = predictions\n",
    "    backtestdata['signal_actual'] = Y_validation\n",
    "    backtestdata['Market Returns'] = X_validation['Close'].pct_change()\n",
    "    backtestdata['Actual Returns'] = backtestdata['Market Returns'] * backtestdata['signal_actual'].shift(1)\n",
    "    backtestdata['Strategy Returns'] = backtestdata['Market Returns'] * backtestdata['signal_pred'].shift(1)\n",
    "    backtestdata=backtestdata.reset_index()\n",
    "    backtestdata.head()\n",
    "    backtestdata[['Strategy Returns','Actual Returns']].cumsum().hist()\n",
    "    backtestdata[['Strategy Returns','Actual Returns']].cumsum().plot()\n",
    "    \n",
    "    return backtestdata"
   ]
  },
  {
   "cell_type": "code",
   "execution_count": 10,
   "metadata": {},
   "outputs": [
    {
     "data": {
      "text/plain": [
       "<AxesSubplot:xlabel='signal', ylabel='count'>"
      ]
     },
     "execution_count": 10,
     "metadata": {},
     "output_type": "execute_result"
    },
    {
     "data": {
      "image/png": "[encoded data removed]",
      "text/plain": [
       "<Figure size 640x480 with 1 Axes>"
      ]
     },
     "metadata": {},
     "output_type": "display_data"
    }
   ],
   "source": [
    "pd.read_csv('data/train.csv').signal.value_counts().plot.bar(xlabel = 'signal', ylabel = 'count')"
   ]
  },
  {
   "cell_type": "code",
   "execution_count": 11,
   "metadata": {},
   "outputs": [],
   "source": [
    "data_test = pd.read_csv('data/test.csv')"
   ]
  },
  {
   "cell_type": "code",
   "execution_count": 12,
   "metadata": {},
   "outputs": [],
   "source": [
    "y_pred_timestamp = data_test['Timestamp']"
   ]
  },
  {
   "cell_type": "code",
   "execution_count": 13,
   "metadata": {},
   "outputs": [],
   "source": [
    "data_test.columns = data_test.columns.str.lower()"
   ]
  },
  {
   "cell_type": "code",
   "execution_count": 14,
   "metadata": {},
   "outputs": [],
   "source": [
    "data = pd.read_csv('data/train.csv')"
   ]
  },
  {
   "cell_type": "code",
   "execution_count": 15,
   "metadata": {},
   "outputs": [],
   "source": [
    "data = data.sort_values(by='timestamp').reset_index()"
   ]
  },
  {
   "cell_type": "code",
   "execution_count": 16,
   "metadata": {},
   "outputs": [],
   "source": [
    "data = (data.assign(EMA10 = lambda df: EMA(df, 10))\n",
    "        .assign(EMA30 = lambda df: EMA(df, 30))\n",
    "        .assign(EMA200 = lambda df: EMA(df, 200))\n",
    "        .assign(ROC10 = lambda df: ROC((df['close']), 10))\n",
    "        .assign(MOM10 = lambda df: MOM((df['close']), 10))\n",
    "        .assign(MOM30 = lambda df: MOM((df['close']), 30))\n",
    "        .assign(RSI10 = lambda df: RSI((df['close']), 10))\n",
    "        .assign(RSI30 = lambda df: RSI((df['close']), 30))\n",
    "        .assign(RSI200 = lambda df: RSI((df['close']), 200))\n",
    "        .assign(MA10 = lambda df: MA(df, 10))\n",
    "        .assign(MA30 = lambda df: MA(df, 30))\n",
    "        .assign(MA200 = lambda df: MA(df, 200))\n",
    "                )"
   ]
  },
  {
   "cell_type": "code",
   "execution_count": 17,
   "metadata": {},
   "outputs": [],
   "source": [
    "data.columns = data.columns.str.lower()"
   ]
  },
  {
   "cell_type": "code",
   "execution_count": 18,
   "metadata": {},
   "outputs": [],
   "source": [
    "test_columns = [\"Timestamp\",\"Close\",\"EMA10\",\"EMA30\",\"EMA200\",\"ROC10\",\"ROC30\",\"MOM10\",\"MOM30\",\"RSI10\",\"RSI30\",\"RSI200\",\"%K10\",\"%D10\",\"%K30\",\"%D30\",\"%K200\",\"%D200\",\"MA10\",\"MA30\",\"MA200\"]"
   ]
  },
  {
   "cell_type": "code",
   "execution_count": 19,
   "metadata": {},
   "outputs": [],
   "source": [
    "test_columns_lower = list(map(lambda x: x.lower(), test_columns))"
   ]
  },
  {
   "cell_type": "code",
   "execution_count": 20,
   "metadata": {},
   "outputs": [
    {
     "data": {
      "text/plain": [
       "['timestamp',\n",
       " 'close',\n",
       " 'ema10',\n",
       " 'ema30',\n",
       " 'ema200',\n",
       " 'roc10',\n",
       " 'roc30',\n",
       " 'mom10',\n",
       " 'mom30',\n",
       " 'rsi10',\n",
       " 'rsi30',\n",
       " 'rsi200',\n",
       " '%k10',\n",
       " '%d10',\n",
       " '%k30',\n",
       " '%d30',\n",
       " '%k200',\n",
       " '%d200',\n",
       " 'ma10',\n",
       " 'ma30',\n",
       " 'ma200']"
      ]
     },
     "execution_count": 20,
     "metadata": {},
     "output_type": "execute_result"
    }
   ],
   "source": [
    "test_columns_lower"
   ]
  },
  {
   "cell_type": "code",
   "execution_count": 21,
   "metadata": {},
   "outputs": [],
   "source": [
    "data = data[200:]"
   ]
  },
  {
   "cell_type": "code",
   "execution_count": null,
   "metadata": {},
   "outputs": [],
   "source": []
  },
  {
   "cell_type": "code",
   "execution_count": 22,
   "metadata": {},
   "outputs": [],
   "source": [
    "X = data.loc[:,data.columns.isin(test_columns_lower)]"
   ]
  },
  {
   "cell_type": "code",
   "execution_count": 23,
   "metadata": {},
   "outputs": [],
   "source": [
    "y = data.signal"
   ]
  },
  {
   "cell_type": "code",
   "execution_count": 24,
   "metadata": {},
   "outputs": [],
   "source": [
    "X_train, X_test, y_train, y_test = train_test_split(X, y, test_size=0.33, random_state=42)"
   ]
  },
  {
   "cell_type": "code",
   "execution_count": 25,
   "metadata": {},
   "outputs": [],
   "source": [
    "scaler =  StandardScaler()"
   ]
  },
  {
   "cell_type": "code",
   "execution_count": 26,
   "metadata": {},
   "outputs": [],
   "source": [
    "X_train = scaler.fit_transform(X_train)"
   ]
  },
  {
   "cell_type": "code",
   "execution_count": 27,
   "metadata": {},
   "outputs": [],
   "source": [
    "X_test = scaler.transform(X_test)"
   ]
  },
  {
   "cell_type": "code",
   "execution_count": 28,
   "metadata": {},
   "outputs": [],
   "source": [
    "rf = RandomForestClassifier(n_estimators=100, min_samples_split=20, n_jobs=-1)"
   ]
  },
  {
   "cell_type": "code",
   "execution_count": 29,
   "metadata": {},
   "outputs": [
    {
     "data": {
      "text/html": [
       "<style>#sk-container-id-1 {color: black;background-color: white;}#sk-container-id-1 pre{padding: 0;}#sk-container-id-1 div.sk-toggleable {background-color: white;}#sk-container-id-1 label.sk-toggleable__label {cursor: pointer;display: block;width: 100%;margin-bottom: 0;padding: 0.3em;box-sizing: border-box;text-align: center;}#sk-container-id-1 label.sk-toggleable__label-arrow:before {content: \"▸\";float: left;margin-right: 0.25em;color: #696969;}#sk-container-id-1 label.sk-toggleable__label-arrow:hover:before {color: black;}#sk-container-id-1 div.sk-estimator:hover label.sk-toggleable__label-arrow:before {color: black;}#sk-container-id-1 div.sk-toggleable__content {max-height: 0;max-width: 0;overflow: hidden;text-align: left;background-color: #f0f8ff;}#sk-container-id-1 div.sk-toggleable__content pre {margin: 0.2em;color: black;border-radius: 0.25em;background-color: #f0f8ff;}#sk-container-id-1 input.sk-toggleable__control:checked~div.sk-toggleable__content {max-height: 200px;max-width: 100%;overflow: auto;}#sk-container-id-1 input.sk-toggleable__control:checked~label.sk-toggleable__label-arrow:before {content: \"▾\";}#sk-container-id-1 div.sk-estimator input.sk-toggleable__control:checked~label.sk-toggleable__label {background-color: #d4ebff;}#sk-container-id-1 div.sk-label input.sk-toggleable__control:checked~label.sk-toggleable__label {background-color: #d4ebff;}#sk-container-id-1 input.sk-hidden--visually {border: 0;clip: rect(1px 1px 1px 1px);clip: rect(1px, 1px, 1px, 1px);height: 1px;margin: -1px;overflow: hidden;padding: 0;position: absolute;width: 1px;}#sk-container-id-1 div.sk-estimator {font-family: monospace;background-color: #f0f8ff;border: 1px dotted black;border-radius: 0.25em;box-sizing: border-box;margin-bottom: 0.5em;}#sk-container-id-1 div.sk-estimator:hover {background-color: #d4ebff;}#sk-container-id-1 div.sk-parallel-item::after {content: \"\";width: 100%;border-bottom: 1px solid gray;flex-grow: 1;}#sk-container-id-1 div.sk-label:hover label.sk-toggleable__label {background-color: #d4ebff;}#sk-container-id-1 div.sk-serial::before {content: \"\";position: absolute;border-left: 1px solid gray;box-sizing: border-box;top: 0;bottom: 0;left: 50%;z-index: 0;}#sk-container-id-1 div.sk-serial {display: flex;flex-direction: column;align-items: center;background-color: white;padding-right: 0.2em;padding-left: 0.2em;position: relative;}#sk-container-id-1 div.sk-item {position: relative;z-index: 1;}#sk-container-id-1 div.sk-parallel {display: flex;align-items: stretch;justify-content: center;background-color: white;position: relative;}#sk-container-id-1 div.sk-item::before, #sk-container-id-1 div.sk-parallel-item::before {content: \"\";position: absolute;border-left: 1px solid gray;box-sizing: border-box;top: 0;bottom: 0;left: 50%;z-index: -1;}#sk-container-id-1 div.sk-parallel-item {display: flex;flex-direction: column;z-index: 1;position: relative;background-color: white;}#sk-container-id-1 div.sk-parallel-item:first-child::after {align-self: flex-end;width: 50%;}#sk-container-id-1 div.sk-parallel-item:last-child::after {align-self: flex-start;width: 50%;}#sk-container-id-1 div.sk-parallel-item:only-child::after {width: 0;}#sk-container-id-1 div.sk-dashed-wrapped {border: 1px dashed gray;margin: 0 0.4em 0.5em 0.4em;box-sizing: border-box;padding-bottom: 0.4em;background-color: white;}#sk-container-id-1 div.sk-label label {font-family: monospace;font-weight: bold;display: inline-block;line-height: 1.2em;}#sk-container-id-1 div.sk-label-container {text-align: center;}#sk-container-id-1 div.sk-container {/* jupyter's `normalize.less` sets `[hidden] { display: none; }` but bootstrap.min.css set `[hidden] { display: none !important; }` so we also need the `!important` here to be able to override the default hidden behavior on the sphinx rendered scikit-learn.org. See: https://github.com/scikit-learn/scikit-learn/issues/21755 */display: inline-block !important;position: relative;}#sk-container-id-1 div.sk-text-repr-fallback {display: none;}</style><div id=\"sk-container-id-1\" class=\"sk-top-container\"><div class=\"sk-text-repr-fallback\"><pre>RandomForestClassifier(min_samples_split=20, n_jobs=-1)</pre><b>In a Jupyter environment, please rerun this cell to show the HTML representation or trust the notebook. <br />On GitHub, the HTML representation is unable to render, please try loading this page with nbviewer.org.</b></div><div class=\"sk-container\" hidden><div class=\"sk-item\"><div class=\"sk-estimator sk-toggleable\"><input class=\"sk-toggleable__control sk-hidden--visually\" id=\"sk-estimator-id-1\" type=\"checkbox\" checked><label for=\"sk-estimator-id-1\" class=\"sk-toggleable__label sk-toggleable__label-arrow\">RandomForestClassifier</label><div class=\"sk-toggleable__content\"><pre>RandomForestClassifier(min_samples_split=20, n_jobs=-1)</pre></div></div></div></div></div>"
      ],
      "text/plain": [
       "RandomForestClassifier(min_samples_split=20, n_jobs=-1)"
      ]
     },
     "execution_count": 29,
     "metadata": {},
     "output_type": "execute_result"
    }
   ],
   "source": [
    "rf.fit(X_train, y_train)"
   ]
  },
  {
   "cell_type": "code",
   "execution_count": 30,
   "metadata": {},
   "outputs": [
    {
     "data": {
      "text/plain": [
       "0.9115197622729868"
      ]
     },
     "execution_count": 30,
     "metadata": {},
     "output_type": "execute_result"
    }
   ],
   "source": [
    "roc_auc_score(y_test, rf.predict(X_test))"
   ]
  },
  {
   "cell_type": "code",
   "execution_count": 31,
   "metadata": {},
   "outputs": [],
   "source": [
    "X = X.drop('timestamp', axis=1)"
   ]
  },
  {
   "cell_type": "code",
   "execution_count": 32,
   "metadata": {},
   "outputs": [
    {
     "data": {
      "text/html": [
       "<div>\n",
       "<style scoped>\n",
       "    .dataframe tbody tr th:only-of-type {\n",
       "        vertical-align: middle;\n",
       "    }\n",
       "\n",
       "    .dataframe tbody tr th {\n",
       "        vertical-align: top;\n",
       "    }\n",
       "\n",
       "    .dataframe thead th {\n",
       "        text-align: right;\n",
       "    }\n",
       "</style>\n",
       "<table border=\"1\" class=\"dataframe\">\n",
       "  <thead>\n",
       "    <tr style=\"text-align: right;\">\n",
       "      <th></th>\n",
       "      <th>close</th>\n",
       "      <th>ema200</th>\n",
       "      <th>ma200</th>\n",
       "      <th>rsi200</th>\n",
       "      <th>%k30</th>\n",
       "      <th>ema10</th>\n",
       "      <th>ema30</th>\n",
       "      <th>ema200</th>\n",
       "      <th>roc10</th>\n",
       "      <th>mom10</th>\n",
       "      <th>mom30</th>\n",
       "      <th>rsi10</th>\n",
       "      <th>rsi30</th>\n",
       "      <th>rsi200</th>\n",
       "      <th>ma10</th>\n",
       "      <th>ma30</th>\n",
       "      <th>ma200</th>\n",
       "    </tr>\n",
       "  </thead>\n",
       "  <tbody>\n",
       "    <tr>\n",
       "      <th>200</th>\n",
       "      <td>5.04</td>\n",
       "      <td>4.897158</td>\n",
       "      <td>4.86460</td>\n",
       "      <td>50.814380</td>\n",
       "      <td>100.000000</td>\n",
       "      <td>5.012654</td>\n",
       "      <td>4.975558</td>\n",
       "      <td>4.889170</td>\n",
       "      <td>0.598802</td>\n",
       "      <td>0.03</td>\n",
       "      <td>0.20</td>\n",
       "      <td>61.343204</td>\n",
       "      <td>57.417173</td>\n",
       "      <td>53.642384</td>\n",
       "      <td>5.009</td>\n",
       "      <td>4.974667</td>\n",
       "      <td>4.86460</td>\n",
       "    </tr>\n",
       "    <tr>\n",
       "      <th>201</th>\n",
       "      <td>4.90</td>\n",
       "      <td>4.897186</td>\n",
       "      <td>4.86625</td>\n",
       "      <td>49.834454</td>\n",
       "      <td>26.315789</td>\n",
       "      <td>4.992172</td>\n",
       "      <td>4.970683</td>\n",
       "      <td>4.889294</td>\n",
       "      <td>-2.390438</td>\n",
       "      <td>-0.11</td>\n",
       "      <td>0.03</td>\n",
       "      <td>35.548584</td>\n",
       "      <td>47.786216</td>\n",
       "      <td>52.421217</td>\n",
       "      <td>4.998</td>\n",
       "      <td>4.975667</td>\n",
       "      <td>4.86625</td>\n",
       "    </tr>\n",
       "    <tr>\n",
       "      <th>202</th>\n",
       "      <td>4.99</td>\n",
       "      <td>4.898109</td>\n",
       "      <td>4.86760</td>\n",
       "      <td>50.451796</td>\n",
       "      <td>73.684211</td>\n",
       "      <td>4.991777</td>\n",
       "      <td>4.971930</td>\n",
       "      <td>4.890448</td>\n",
       "      <td>-0.597610</td>\n",
       "      <td>-0.03</td>\n",
       "      <td>0.12</td>\n",
       "      <td>50.435517</td>\n",
       "      <td>53.026104</td>\n",
       "      <td>53.110870</td>\n",
       "      <td>4.995</td>\n",
       "      <td>4.979667</td>\n",
       "      <td>4.86760</td>\n",
       "    </tr>\n",
       "    <tr>\n",
       "      <th>203</th>\n",
       "      <td>4.98</td>\n",
       "      <td>4.898924</td>\n",
       "      <td>4.86875</td>\n",
       "      <td>50.382560</td>\n",
       "      <td>68.421053</td>\n",
       "      <td>4.989636</td>\n",
       "      <td>4.972450</td>\n",
       "      <td>4.891472</td>\n",
       "      <td>-1.190476</td>\n",
       "      <td>-0.04</td>\n",
       "      <td>0.05</td>\n",
       "      <td>49.037176</td>\n",
       "      <td>52.421423</td>\n",
       "      <td>53.025041</td>\n",
       "      <td>4.991</td>\n",
       "      <td>4.981333</td>\n",
       "      <td>4.86875</td>\n",
       "    </tr>\n",
       "    <tr>\n",
       "      <th>204</th>\n",
       "      <td>5.00</td>\n",
       "      <td>4.899930</td>\n",
       "      <td>4.86985</td>\n",
       "      <td>50.519050</td>\n",
       "      <td>78.947368</td>\n",
       "      <td>4.991520</td>\n",
       "      <td>4.974228</td>\n",
       "      <td>4.892711</td>\n",
       "      <td>1.419878</td>\n",
       "      <td>-0.04</td>\n",
       "      <td>0.07</td>\n",
       "      <td>51.994861</td>\n",
       "      <td>53.518087</td>\n",
       "      <td>53.177136</td>\n",
       "      <td>4.987</td>\n",
       "      <td>4.983667</td>\n",
       "      <td>4.86985</td>\n",
       "    </tr>\n",
       "    <tr>\n",
       "      <th>...</th>\n",
       "      <td>...</td>\n",
       "      <td>...</td>\n",
       "      <td>...</td>\n",
       "      <td>...</td>\n",
       "      <td>...</td>\n",
       "      <td>...</td>\n",
       "      <td>...</td>\n",
       "      <td>...</td>\n",
       "      <td>...</td>\n",
       "      <td>...</td>\n",
       "      <td>...</td>\n",
       "      <td>...</td>\n",
       "      <td>...</td>\n",
       "      <td>...</td>\n",
       "      <td>...</td>\n",
       "      <td>...</td>\n",
       "      <td>...</td>\n",
       "    </tr>\n",
       "    <tr>\n",
       "      <th>18065</th>\n",
       "      <td>10.64</td>\n",
       "      <td>10.624384</td>\n",
       "      <td>10.59565</td>\n",
       "      <td>49.791687</td>\n",
       "      <td>82.608696</td>\n",
       "      <td>10.609500</td>\n",
       "      <td>10.627613</td>\n",
       "      <td>10.630061</td>\n",
       "      <td>-0.187617</td>\n",
       "      <td>-0.03</td>\n",
       "      <td>-0.03</td>\n",
       "      <td>52.656789</td>\n",
       "      <td>50.659366</td>\n",
       "      <td>49.789480</td>\n",
       "      <td>10.620</td>\n",
       "      <td>10.626000</td>\n",
       "      <td>10.60240</td>\n",
       "    </tr>\n",
       "    <tr>\n",
       "      <th>18066</th>\n",
       "      <td>10.63</td>\n",
       "      <td>10.624440</td>\n",
       "      <td>10.59520</td>\n",
       "      <td>49.725912</td>\n",
       "      <td>78.260870</td>\n",
       "      <td>10.613227</td>\n",
       "      <td>10.627767</td>\n",
       "      <td>10.630060</td>\n",
       "      <td>-0.281426</td>\n",
       "      <td>-0.03</td>\n",
       "      <td>-0.04</td>\n",
       "      <td>51.224050</td>\n",
       "      <td>49.968532</td>\n",
       "      <td>49.711786</td>\n",
       "      <td>10.617</td>\n",
       "      <td>10.624667</td>\n",
       "      <td>10.60210</td>\n",
       "    </tr>\n",
       "    <tr>\n",
       "      <th>18067</th>\n",
       "      <td>10.63</td>\n",
       "      <td>10.624440</td>\n",
       "      <td>10.59520</td>\n",
       "      <td>49.725912</td>\n",
       "      <td>78.260870</td>\n",
       "      <td>10.616277</td>\n",
       "      <td>10.627911</td>\n",
       "      <td>10.630060</td>\n",
       "      <td>-0.374883</td>\n",
       "      <td>-0.03</td>\n",
       "      <td>-0.04</td>\n",
       "      <td>51.224050</td>\n",
       "      <td>49.968532</td>\n",
       "      <td>49.711786</td>\n",
       "      <td>10.614</td>\n",
       "      <td>10.623333</td>\n",
       "      <td>10.60180</td>\n",
       "    </tr>\n",
       "    <tr>\n",
       "      <th>18068</th>\n",
       "      <td>10.66</td>\n",
       "      <td>10.624793</td>\n",
       "      <td>10.59490</td>\n",
       "      <td>49.925356</td>\n",
       "      <td>91.304348</td>\n",
       "      <td>10.624226</td>\n",
       "      <td>10.629981</td>\n",
       "      <td>10.630358</td>\n",
       "      <td>-0.093721</td>\n",
       "      <td>-0.01</td>\n",
       "      <td>0.02</td>\n",
       "      <td>55.689410</td>\n",
       "      <td>52.067065</td>\n",
       "      <td>49.948455</td>\n",
       "      <td>10.613</td>\n",
       "      <td>10.624000</td>\n",
       "      <td>10.60170</td>\n",
       "    </tr>\n",
       "    <tr>\n",
       "      <th>18069</th>\n",
       "      <td>10.66</td>\n",
       "      <td>10.624793</td>\n",
       "      <td>10.59490</td>\n",
       "      <td>49.925356</td>\n",
       "      <td>91.304348</td>\n",
       "      <td>10.630731</td>\n",
       "      <td>10.631918</td>\n",
       "      <td>10.630653</td>\n",
       "      <td>-0.187266</td>\n",
       "      <td>-0.01</td>\n",
       "      <td>0.02</td>\n",
       "      <td>55.689410</td>\n",
       "      <td>52.067065</td>\n",
       "      <td>49.948455</td>\n",
       "      <td>10.612</td>\n",
       "      <td>10.624667</td>\n",
       "      <td>10.60160</td>\n",
       "    </tr>\n",
       "  </tbody>\n",
       "</table>\n",
       "<p>17870 rows × 17 columns</p>\n",
       "</div>"
      ],
      "text/plain": [
       "       close     ema200     ma200     rsi200        %k30      ema10  \\\n",
       "200     5.04   4.897158   4.86460  50.814380  100.000000   5.012654   \n",
       "201     4.90   4.897186   4.86625  49.834454   26.315789   4.992172   \n",
       "202     4.99   4.898109   4.86760  50.451796   73.684211   4.991777   \n",
       "203     4.98   4.898924   4.86875  50.382560   68.421053   4.989636   \n",
       "204     5.00   4.899930   4.86985  50.519050   78.947368   4.991520   \n",
       "...      ...        ...       ...        ...         ...        ...   \n",
       "18065  10.64  10.624384  10.59565  49.791687   82.608696  10.609500   \n",
       "18066  10.63  10.624440  10.59520  49.725912   78.260870  10.613227   \n",
       "18067  10.63  10.624440  10.59520  49.725912   78.260870  10.616277   \n",
       "18068  10.66  10.624793  10.59490  49.925356   91.304348  10.624226   \n",
       "18069  10.66  10.624793  10.59490  49.925356   91.304348  10.630731   \n",
       "\n",
       "           ema30     ema200     roc10  mom10  mom30      rsi10      rsi30  \\\n",
       "200     4.975558   4.889170  0.598802   0.03   0.20  61.343204  57.417173   \n",
       "201     4.970683   4.889294 -2.390438  -0.11   0.03  35.548584  47.786216   \n",
       "202     4.971930   4.890448 -0.597610  -0.03   0.12  50.435517  53.026104   \n",
       "203     4.972450   4.891472 -1.190476  -0.04   0.05  49.037176  52.421423   \n",
       "204     4.974228   4.892711  1.419878  -0.04   0.07  51.994861  53.518087   \n",
       "...          ...        ...       ...    ...    ...        ...        ...   \n",
       "18065  10.627613  10.630061 -0.187617  -0.03  -0.03  52.656789  50.659366   \n",
       "18066  10.627767  10.630060 -0.281426  -0.03  -0.04  51.224050  49.968532   \n",
       "18067  10.627911  10.630060 -0.374883  -0.03  -0.04  51.224050  49.968532   \n",
       "18068  10.629981  10.630358 -0.093721  -0.01   0.02  55.689410  52.067065   \n",
       "18069  10.631918  10.630653 -0.187266  -0.01   0.02  55.689410  52.067065   \n",
       "\n",
       "          rsi200    ma10       ma30     ma200  \n",
       "200    53.642384   5.009   4.974667   4.86460  \n",
       "201    52.421217   4.998   4.975667   4.86625  \n",
       "202    53.110870   4.995   4.979667   4.86760  \n",
       "203    53.025041   4.991   4.981333   4.86875  \n",
       "204    53.177136   4.987   4.983667   4.86985  \n",
       "...          ...     ...        ...       ...  \n",
       "18065  49.789480  10.620  10.626000  10.60240  \n",
       "18066  49.711786  10.617  10.624667  10.60210  \n",
       "18067  49.711786  10.614  10.623333  10.60180  \n",
       "18068  49.948455  10.613  10.624000  10.60170  \n",
       "18069  49.948455  10.612  10.624667  10.60160  \n",
       "\n",
       "[17870 rows x 17 columns]"
      ]
     },
     "execution_count": 32,
     "metadata": {},
     "output_type": "execute_result"
    }
   ],
   "source": [
    "X"
   ]
  },
  {
   "cell_type": "code",
   "execution_count": 33,
   "metadata": {},
   "outputs": [],
   "source": [
    "data_test = data_test.loc[:,data_test.columns.isin(data.columns)][X.columns.tolist()]"
   ]
  },
  {
   "cell_type": "code",
   "execution_count": 34,
   "metadata": {},
   "outputs": [
    {
     "data": {
      "text/html": [
       "<div>\n",
       "<style scoped>\n",
       "    .dataframe tbody tr th:only-of-type {\n",
       "        vertical-align: middle;\n",
       "    }\n",
       "\n",
       "    .dataframe tbody tr th {\n",
       "        vertical-align: top;\n",
       "    }\n",
       "\n",
       "    .dataframe thead th {\n",
       "        text-align: right;\n",
       "    }\n",
       "</style>\n",
       "<table border=\"1\" class=\"dataframe\">\n",
       "  <thead>\n",
       "    <tr style=\"text-align: right;\">\n",
       "      <th></th>\n",
       "      <th>close</th>\n",
       "      <th>ema200</th>\n",
       "      <th>ma200</th>\n",
       "      <th>rsi200</th>\n",
       "      <th>%k30</th>\n",
       "      <th>ema10</th>\n",
       "      <th>ema30</th>\n",
       "      <th>ema200</th>\n",
       "      <th>roc10</th>\n",
       "      <th>mom10</th>\n",
       "      <th>mom30</th>\n",
       "      <th>rsi10</th>\n",
       "      <th>rsi30</th>\n",
       "      <th>rsi200</th>\n",
       "      <th>ma10</th>\n",
       "      <th>ma30</th>\n",
       "      <th>ma200</th>\n",
       "    </tr>\n",
       "  </thead>\n",
       "  <tbody>\n",
       "    <tr>\n",
       "      <th>0</th>\n",
       "      <td>10.68</td>\n",
       "      <td>10.625343</td>\n",
       "      <td>10.59470</td>\n",
       "      <td>50.058105</td>\n",
       "      <td>100.000000</td>\n",
       "      <td>10.639059</td>\n",
       "      <td>10.636231</td>\n",
       "      <td>10.625343</td>\n",
       "      <td>0.093721</td>\n",
       "      <td>0.02</td>\n",
       "      <td>0.01</td>\n",
       "      <td>54.947707</td>\n",
       "      <td>52.577501</td>\n",
       "      <td>50.058105</td>\n",
       "      <td>10.641</td>\n",
       "      <td>10.646667</td>\n",
       "      <td>10.59470</td>\n",
       "    </tr>\n",
       "    <tr>\n",
       "      <th>1</th>\n",
       "      <td>10.68</td>\n",
       "      <td>10.625887</td>\n",
       "      <td>10.59585</td>\n",
       "      <td>50.058105</td>\n",
       "      <td>100.000000</td>\n",
       "      <td>10.646502</td>\n",
       "      <td>10.639055</td>\n",
       "      <td>10.625887</td>\n",
       "      <td>0.093721</td>\n",
       "      <td>0.01</td>\n",
       "      <td>0.01</td>\n",
       "      <td>54.947707</td>\n",
       "      <td>52.577501</td>\n",
       "      <td>50.058105</td>\n",
       "      <td>10.642</td>\n",
       "      <td>10.647000</td>\n",
       "      <td>10.59585</td>\n",
       "    </tr>\n",
       "    <tr>\n",
       "      <th>2</th>\n",
       "      <td>10.64</td>\n",
       "      <td>10.626027</td>\n",
       "      <td>10.59650</td>\n",
       "      <td>49.791450</td>\n",
       "      <td>82.608696</td>\n",
       "      <td>10.645320</td>\n",
       "      <td>10.639116</td>\n",
       "      <td>10.626027</td>\n",
       "      <td>-0.187617</td>\n",
       "      <td>-0.03</td>\n",
       "      <td>-0.04</td>\n",
       "      <td>49.730027</td>\n",
       "      <td>50.688799</td>\n",
       "      <td>49.791450</td>\n",
       "      <td>10.639</td>\n",
       "      <td>10.645667</td>\n",
       "      <td>10.59650</td>\n",
       "    </tr>\n",
       "    <tr>\n",
       "      <th>3</th>\n",
       "      <td>10.60</td>\n",
       "      <td>10.625768</td>\n",
       "      <td>10.59705</td>\n",
       "      <td>49.526302</td>\n",
       "      <td>65.217391</td>\n",
       "      <td>10.637080</td>\n",
       "      <td>10.636592</td>\n",
       "      <td>10.625768</td>\n",
       "      <td>-0.656045</td>\n",
       "      <td>-0.06</td>\n",
       "      <td>-0.08</td>\n",
       "      <td>44.983869</td>\n",
       "      <td>48.872645</td>\n",
       "      <td>49.526302</td>\n",
       "      <td>10.633</td>\n",
       "      <td>10.643000</td>\n",
       "      <td>10.59705</td>\n",
       "    </tr>\n",
       "    <tr>\n",
       "      <th>4</th>\n",
       "      <td>10.50</td>\n",
       "      <td>10.624517</td>\n",
       "      <td>10.59710</td>\n",
       "      <td>48.872398</td>\n",
       "      <td>21.739130</td>\n",
       "      <td>10.612157</td>\n",
       "      <td>10.627780</td>\n",
       "      <td>10.624517</td>\n",
       "      <td>-1.685393</td>\n",
       "      <td>-0.17</td>\n",
       "      <td>-0.18</td>\n",
       "      <td>35.557367</td>\n",
       "      <td>44.728033</td>\n",
       "      <td>48.872398</td>\n",
       "      <td>10.616</td>\n",
       "      <td>10.637000</td>\n",
       "      <td>10.59710</td>\n",
       "    </tr>\n",
       "    <tr>\n",
       "      <th>...</th>\n",
       "      <td>...</td>\n",
       "      <td>...</td>\n",
       "      <td>...</td>\n",
       "      <td>...</td>\n",
       "      <td>...</td>\n",
       "      <td>...</td>\n",
       "      <td>...</td>\n",
       "      <td>...</td>\n",
       "      <td>...</td>\n",
       "      <td>...</td>\n",
       "      <td>...</td>\n",
       "      <td>...</td>\n",
       "      <td>...</td>\n",
       "      <td>...</td>\n",
       "      <td>...</td>\n",
       "      <td>...</td>\n",
       "      <td>...</td>\n",
       "    </tr>\n",
       "    <tr>\n",
       "      <th>4900</th>\n",
       "      <td>13.34</td>\n",
       "      <td>13.370544</td>\n",
       "      <td>13.37065</td>\n",
       "      <td>49.995688</td>\n",
       "      <td>0.000000</td>\n",
       "      <td>13.381654</td>\n",
       "      <td>13.397634</td>\n",
       "      <td>13.370544</td>\n",
       "      <td>-0.670141</td>\n",
       "      <td>-0.09</td>\n",
       "      <td>-0.05</td>\n",
       "      <td>17.747752</td>\n",
       "      <td>37.647693</td>\n",
       "      <td>49.995688</td>\n",
       "      <td>13.394</td>\n",
       "      <td>13.406000</td>\n",
       "      <td>13.37065</td>\n",
       "    </tr>\n",
       "    <tr>\n",
       "      <th>4901</th>\n",
       "      <td>13.33</td>\n",
       "      <td>13.370141</td>\n",
       "      <td>13.37030</td>\n",
       "      <td>49.868857</td>\n",
       "      <td>0.000000</td>\n",
       "      <td>13.372263</td>\n",
       "      <td>13.393270</td>\n",
       "      <td>13.370141</td>\n",
       "      <td>-0.744602</td>\n",
       "      <td>-0.10</td>\n",
       "      <td>-0.06</td>\n",
       "      <td>15.850286</td>\n",
       "      <td>36.089430</td>\n",
       "      <td>49.868857</td>\n",
       "      <td>13.384</td>\n",
       "      <td>13.404000</td>\n",
       "      <td>13.37030</td>\n",
       "    </tr>\n",
       "    <tr>\n",
       "      <th>4902</th>\n",
       "      <td>13.42</td>\n",
       "      <td>13.370637</td>\n",
       "      <td>13.37040</td>\n",
       "      <td>50.993373</td>\n",
       "      <td>90.000000</td>\n",
       "      <td>13.380942</td>\n",
       "      <td>13.394995</td>\n",
       "      <td>13.370637</td>\n",
       "      <td>-0.074460</td>\n",
       "      <td>-0.01</td>\n",
       "      <td>0.03</td>\n",
       "      <td>59.330877</td>\n",
       "      <td>53.867217</td>\n",
       "      <td>50.993373</td>\n",
       "      <td>13.383</td>\n",
       "      <td>13.405000</td>\n",
       "      <td>13.37040</td>\n",
       "    </tr>\n",
       "    <tr>\n",
       "      <th>4903</th>\n",
       "      <td>13.34</td>\n",
       "      <td>13.370332</td>\n",
       "      <td>13.37005</td>\n",
       "      <td>49.991577</td>\n",
       "      <td>10.000000</td>\n",
       "      <td>13.373498</td>\n",
       "      <td>13.391447</td>\n",
       "      <td>13.370332</td>\n",
       "      <td>-0.670141</td>\n",
       "      <td>-0.09</td>\n",
       "      <td>-0.05</td>\n",
       "      <td>39.283488</td>\n",
       "      <td>42.895241</td>\n",
       "      <td>49.991577</td>\n",
       "      <td>13.374</td>\n",
       "      <td>13.403333</td>\n",
       "      <td>13.37005</td>\n",
       "    </tr>\n",
       "    <tr>\n",
       "      <th>4904</th>\n",
       "      <td>13.34</td>\n",
       "      <td>13.370030</td>\n",
       "      <td>13.36975</td>\n",
       "      <td>49.991577</td>\n",
       "      <td>10.000000</td>\n",
       "      <td>13.367408</td>\n",
       "      <td>13.388128</td>\n",
       "      <td>13.370030</td>\n",
       "      <td>-0.373413</td>\n",
       "      <td>-0.09</td>\n",
       "      <td>-0.05</td>\n",
       "      <td>39.283488</td>\n",
       "      <td>42.895241</td>\n",
       "      <td>49.991577</td>\n",
       "      <td>13.365</td>\n",
       "      <td>13.401667</td>\n",
       "      <td>13.36975</td>\n",
       "    </tr>\n",
       "  </tbody>\n",
       "</table>\n",
       "<p>4905 rows × 17 columns</p>\n",
       "</div>"
      ],
      "text/plain": [
       "      close     ema200     ma200     rsi200        %k30      ema10      ema30  \\\n",
       "0     10.68  10.625343  10.59470  50.058105  100.000000  10.639059  10.636231   \n",
       "1     10.68  10.625887  10.59585  50.058105  100.000000  10.646502  10.639055   \n",
       "2     10.64  10.626027  10.59650  49.791450   82.608696  10.645320  10.639116   \n",
       "3     10.60  10.625768  10.59705  49.526302   65.217391  10.637080  10.636592   \n",
       "4     10.50  10.624517  10.59710  48.872398   21.739130  10.612157  10.627780   \n",
       "...     ...        ...       ...        ...         ...        ...        ...   \n",
       "4900  13.34  13.370544  13.37065  49.995688    0.000000  13.381654  13.397634   \n",
       "4901  13.33  13.370141  13.37030  49.868857    0.000000  13.372263  13.393270   \n",
       "4902  13.42  13.370637  13.37040  50.993373   90.000000  13.380942  13.394995   \n",
       "4903  13.34  13.370332  13.37005  49.991577   10.000000  13.373498  13.391447   \n",
       "4904  13.34  13.370030  13.36975  49.991577   10.000000  13.367408  13.388128   \n",
       "\n",
       "         ema200     roc10  mom10  mom30      rsi10      rsi30     rsi200  \\\n",
       "0     10.625343  0.093721   0.02   0.01  54.947707  52.577501  50.058105   \n",
       "1     10.625887  0.093721   0.01   0.01  54.947707  52.577501  50.058105   \n",
       "2     10.626027 -0.187617  -0.03  -0.04  49.730027  50.688799  49.791450   \n",
       "3     10.625768 -0.656045  -0.06  -0.08  44.983869  48.872645  49.526302   \n",
       "4     10.624517 -1.685393  -0.17  -0.18  35.557367  44.728033  48.872398   \n",
       "...         ...       ...    ...    ...        ...        ...        ...   \n",
       "4900  13.370544 -0.670141  -0.09  -0.05  17.747752  37.647693  49.995688   \n",
       "4901  13.370141 -0.744602  -0.10  -0.06  15.850286  36.089430  49.868857   \n",
       "4902  13.370637 -0.074460  -0.01   0.03  59.330877  53.867217  50.993373   \n",
       "4903  13.370332 -0.670141  -0.09  -0.05  39.283488  42.895241  49.991577   \n",
       "4904  13.370030 -0.373413  -0.09  -0.05  39.283488  42.895241  49.991577   \n",
       "\n",
       "        ma10       ma30     ma200  \n",
       "0     10.641  10.646667  10.59470  \n",
       "1     10.642  10.647000  10.59585  \n",
       "2     10.639  10.645667  10.59650  \n",
       "3     10.633  10.643000  10.59705  \n",
       "4     10.616  10.637000  10.59710  \n",
       "...      ...        ...       ...  \n",
       "4900  13.394  13.406000  13.37065  \n",
       "4901  13.384  13.404000  13.37030  \n",
       "4902  13.383  13.405000  13.37040  \n",
       "4903  13.374  13.403333  13.37005  \n",
       "4904  13.365  13.401667  13.36975  \n",
       "\n",
       "[4905 rows x 17 columns]"
      ]
     },
     "execution_count": 34,
     "metadata": {},
     "output_type": "execute_result"
    }
   ],
   "source": [
    "data_test"
   ]
  },
  {
   "cell_type": "code",
   "execution_count": 35,
   "metadata": {},
   "outputs": [],
   "source": [
    "f_scaler =  StandardScaler()"
   ]
  },
  {
   "cell_type": "code",
   "execution_count": 36,
   "metadata": {},
   "outputs": [],
   "source": [
    "X_train_f = f_scaler.fit_transform(X)"
   ]
  },
  {
   "cell_type": "code",
   "execution_count": 37,
   "metadata": {},
   "outputs": [],
   "source": [
    "y_train_f = y"
   ]
  },
  {
   "cell_type": "code",
   "execution_count": 38,
   "metadata": {},
   "outputs": [],
   "source": [
    "X_test_f = f_scaler.transform(data_test)"
   ]
  },
  {
   "cell_type": "code",
   "execution_count": 39,
   "metadata": {},
   "outputs": [],
   "source": [
    "rf = RandomForestClassifier(n_estimators=100, min_samples_split=20, n_jobs=-1)"
   ]
  },
  {
   "cell_type": "code",
   "execution_count": 40,
   "metadata": {},
   "outputs": [
    {
     "data": {
      "text/plain": [
       "(array([[-1.83988404, -1.88275812, -1.88988948, ..., -1.85177366,\n",
       "         -1.86341957, -1.88923779],\n",
       "        [-1.89535653, -1.88274704, -1.88923812, ..., -1.85613261,\n",
       "         -1.86302345, -1.8885866 ],\n",
       "        [-1.85969564, -1.88238156, -1.8887052 , ..., -1.85732141,\n",
       "         -1.86143898, -1.8880538 ],\n",
       "        ...,\n",
       "        [ 0.37505302,  0.38507254,  0.37231199, ...,  0.36930711,\n",
       "          0.37411492,  0.37501474],\n",
       "        [ 0.38693998,  0.38521232,  0.37219357, ...,  0.36891085,\n",
       "          0.374379  ,  0.37497527],\n",
       "        [ 0.38693998,  0.38521232,  0.37219357, ...,  0.36851458,\n",
       "          0.37464308,  0.3749358 ]]),\n",
       " 200      1.0\n",
       " 201      1.0\n",
       " 202      1.0\n",
       " 203      1.0\n",
       " 204      1.0\n",
       "         ... \n",
       " 18065    0.0\n",
       " 18066    0.0\n",
       " 18067    0.0\n",
       " 18068    0.0\n",
       " 18069    0.0\n",
       " Name: signal, Length: 17870, dtype: float64)"
      ]
     },
     "execution_count": 40,
     "metadata": {},
     "output_type": "execute_result"
    }
   ],
   "source": [
    "X_train_f, y_train_f"
   ]
  },
  {
   "cell_type": "code",
   "execution_count": 41,
   "metadata": {},
   "outputs": [],
   "source": [
    "X_train_f_split, _, y_train_f_split, _ = train_test_split(X_train_f, y_train_f, test_size=0.33, random_state=42)"
   ]
  },
  {
   "cell_type": "code",
   "execution_count": 42,
   "metadata": {},
   "outputs": [
    {
     "data": {
      "text/html": [
       "<style>#sk-container-id-2 {color: black;background-color: white;}#sk-container-id-2 pre{padding: 0;}#sk-container-id-2 div.sk-toggleable {background-color: white;}#sk-container-id-2 label.sk-toggleable__label {cursor: pointer;display: block;width: 100%;margin-bottom: 0;padding: 0.3em;box-sizing: border-box;text-align: center;}#sk-container-id-2 label.sk-toggleable__label-arrow:before {content: \"▸\";float: left;margin-right: 0.25em;color: #696969;}#sk-container-id-2 label.sk-toggleable__label-arrow:hover:before {color: black;}#sk-container-id-2 div.sk-estimator:hover label.sk-toggleable__label-arrow:before {color: black;}#sk-container-id-2 div.sk-toggleable__content {max-height: 0;max-width: 0;overflow: hidden;text-align: left;background-color: #f0f8ff;}#sk-container-id-2 div.sk-toggleable__content pre {margin: 0.2em;color: black;border-radius: 0.25em;background-color: #f0f8ff;}#sk-container-id-2 input.sk-toggleable__control:checked~div.sk-toggleable__content {max-height: 200px;max-width: 100%;overflow: auto;}#sk-container-id-2 input.sk-toggleable__control:checked~label.sk-toggleable__label-arrow:before {content: \"▾\";}#sk-container-id-2 div.sk-estimator input.sk-toggleable__control:checked~label.sk-toggleable__label {background-color: #d4ebff;}#sk-container-id-2 div.sk-label input.sk-toggleable__control:checked~label.sk-toggleable__label {background-color: #d4ebff;}#sk-container-id-2 input.sk-hidden--visually {border: 0;clip: rect(1px 1px 1px 1px);clip: rect(1px, 1px, 1px, 1px);height: 1px;margin: -1px;overflow: hidden;padding: 0;position: absolute;width: 1px;}#sk-container-id-2 div.sk-estimator {font-family: monospace;background-color: #f0f8ff;border: 1px dotted black;border-radius: 0.25em;box-sizing: border-box;margin-bottom: 0.5em;}#sk-container-id-2 div.sk-estimator:hover {background-color: #d4ebff;}#sk-container-id-2 div.sk-parallel-item::after {content: \"\";width: 100%;border-bottom: 1px solid gray;flex-grow: 1;}#sk-container-id-2 div.sk-label:hover label.sk-toggleable__label {background-color: #d4ebff;}#sk-container-id-2 div.sk-serial::before {content: \"\";position: absolute;border-left: 1px solid gray;box-sizing: border-box;top: 0;bottom: 0;left: 50%;z-index: 0;}#sk-container-id-2 div.sk-serial {display: flex;flex-direction: column;align-items: center;background-color: white;padding-right: 0.2em;padding-left: 0.2em;position: relative;}#sk-container-id-2 div.sk-item {position: relative;z-index: 1;}#sk-container-id-2 div.sk-parallel {display: flex;align-items: stretch;justify-content: center;background-color: white;position: relative;}#sk-container-id-2 div.sk-item::before, #sk-container-id-2 div.sk-parallel-item::before {content: \"\";position: absolute;border-left: 1px solid gray;box-sizing: border-box;top: 0;bottom: 0;left: 50%;z-index: -1;}#sk-container-id-2 div.sk-parallel-item {display: flex;flex-direction: column;z-index: 1;position: relative;background-color: white;}#sk-container-id-2 div.sk-parallel-item:first-child::after {align-self: flex-end;width: 50%;}#sk-container-id-2 div.sk-parallel-item:last-child::after {align-self: flex-start;width: 50%;}#sk-container-id-2 div.sk-parallel-item:only-child::after {width: 0;}#sk-container-id-2 div.sk-dashed-wrapped {border: 1px dashed gray;margin: 0 0.4em 0.5em 0.4em;box-sizing: border-box;padding-bottom: 0.4em;background-color: white;}#sk-container-id-2 div.sk-label label {font-family: monospace;font-weight: bold;display: inline-block;line-height: 1.2em;}#sk-container-id-2 div.sk-label-container {text-align: center;}#sk-container-id-2 div.sk-container {/* jupyter's `normalize.less` sets `[hidden] { display: none; }` but bootstrap.min.css set `[hidden] { display: none !important; }` so we also need the `!important` here to be able to override the default hidden behavior on the sphinx rendered scikit-learn.org. See: https://github.com/scikit-learn/scikit-learn/issues/21755 */display: inline-block !important;position: relative;}#sk-container-id-2 div.sk-text-repr-fallback {display: none;}</style><div id=\"sk-container-id-2\" class=\"sk-top-container\"><div class=\"sk-text-repr-fallback\"><pre>RandomForestClassifier(min_samples_split=20, n_jobs=-1)</pre><b>In a Jupyter environment, please rerun this cell to show the HTML representation or trust the notebook. <br />On GitHub, the HTML representation is unable to render, please try loading this page with nbviewer.org.</b></div><div class=\"sk-container\" hidden><div class=\"sk-item\"><div class=\"sk-estimator sk-toggleable\"><input class=\"sk-toggleable__control sk-hidden--visually\" id=\"sk-estimator-id-2\" type=\"checkbox\" checked><label for=\"sk-estimator-id-2\" class=\"sk-toggleable__label sk-toggleable__label-arrow\">RandomForestClassifier</label><div class=\"sk-toggleable__content\"><pre>RandomForestClassifier(min_samples_split=20, n_jobs=-1)</pre></div></div></div></div></div>"
      ],
      "text/plain": [
       "RandomForestClassifier(min_samples_split=20, n_jobs=-1)"
      ]
     },
     "execution_count": 42,
     "metadata": {},
     "output_type": "execute_result"
    }
   ],
   "source": [
    "rf.fit(X_train_f, y_train_f)"
   ]
  },
  {
   "cell_type": "code",
   "execution_count": 43,
   "metadata": {},
   "outputs": [],
   "source": [
    "y_pred_f = rf.predict(X_test_f)"
   ]
  },
  {
   "cell_type": "code",
   "execution_count": 44,
   "metadata": {},
   "outputs": [
    {
     "data": {
      "text/plain": [
       "array([0., 0., 0., ..., 0., 0., 0.])"
      ]
     },
     "execution_count": 44,
     "metadata": {},
     "output_type": "execute_result"
    }
   ],
   "source": [
    "y_pred_f"
   ]
  },
  {
   "cell_type": "code",
   "execution_count": 45,
   "metadata": {},
   "outputs": [
    {
     "data": {
      "text/plain": [
       "0.0    2987\n",
       "1.0    1918\n",
       "Name: signal, dtype: int64"
      ]
     },
     "execution_count": 45,
     "metadata": {},
     "output_type": "execute_result"
    }
   ],
   "source": [
    "pd.DataFrame([y_pred_timestamp, y_pred_f], index= ['Timestamp','signal']).T.signal.value_counts()"
   ]
  },
  {
   "cell_type": "code",
   "execution_count": 46,
   "metadata": {},
   "outputs": [],
   "source": [
    "pd.DataFrame([y_pred_timestamp, y_pred_f], index= ['Timestamp','signal']).T.astype({'Timestamp':int}).to_csv('data/base_sub.csv', index=False)"
   ]
  },
  {
   "cell_type": "code",
   "execution_count": 50,
   "metadata": {},
   "outputs": [
    {
     "data": {
      "text/plain": [
       "0.0    2960\n",
       "1.0    1945\n",
       "Name: signal, dtype: int64"
      ]
     },
     "execution_count": 50,
     "metadata": {},
     "output_type": "execute_result"
    }
   ],
   "source": [
    "pd.read_csv('base_sub.csv').signal.value_counts()"
   ]
  },
  {
   "cell_type": "code",
   "execution_count": 57,
   "metadata": {},
   "outputs": [
    {
     "data": {
      "text/plain": [
       "True     4574\n",
       "False     331\n",
       "Name: signal, dtype: int64"
      ]
     },
     "execution_count": 57,
     "metadata": {},
     "output_type": "execute_result"
    }
   ],
   "source": [
    "(pd.read_csv('base_sub.csv') == pd.read_csv('data/base_sub.csv')).signal.value_counts()"
   ]
  },
  {
   "cell_type": "code",
   "execution_count": 59,
   "metadata": {},
   "outputs": [],
   "source": [
    "from sklearn.linear_model import LogisticRegression"
   ]
  },
  {
   "cell_type": "code",
   "execution_count": 63,
   "metadata": {},
   "outputs": [],
   "source": [
    "lr = LogisticRegression(C=0.1)"
   ]
  },
  {
   "cell_type": "code",
   "execution_count": 64,
   "metadata": {},
   "outputs": [
    {
     "data": {
      "text/html": [
       "<style>#sk-container-id-4 {color: black;background-color: white;}#sk-container-id-4 pre{padding: 0;}#sk-container-id-4 div.sk-toggleable {background-color: white;}#sk-container-id-4 label.sk-toggleable__label {cursor: pointer;display: block;width: 100%;margin-bottom: 0;padding: 0.3em;box-sizing: border-box;text-align: center;}#sk-container-id-4 label.sk-toggleable__label-arrow:before {content: \"▸\";float: left;margin-right: 0.25em;color: #696969;}#sk-container-id-4 label.sk-toggleable__label-arrow:hover:before {color: black;}#sk-container-id-4 div.sk-estimator:hover label.sk-toggleable__label-arrow:before {color: black;}#sk-container-id-4 div.sk-toggleable__content {max-height: 0;max-width: 0;overflow: hidden;text-align: left;background-color: #f0f8ff;}#sk-container-id-4 div.sk-toggleable__content pre {margin: 0.2em;color: black;border-radius: 0.25em;background-color: #f0f8ff;}#sk-container-id-4 input.sk-toggleable__control:checked~div.sk-toggleable__content {max-height: 200px;max-width: 100%;overflow: auto;}#sk-container-id-4 input.sk-toggleable__control:checked~label.sk-toggleable__label-arrow:before {content: \"▾\";}#sk-container-id-4 div.sk-estimator input.sk-toggleable__control:checked~label.sk-toggleable__label {background-color: #d4ebff;}#sk-container-id-4 div.sk-label input.sk-toggleable__control:checked~label.sk-toggleable__label {background-color: #d4ebff;}#sk-container-id-4 input.sk-hidden--visually {border: 0;clip: rect(1px 1px 1px 1px);clip: rect(1px, 1px, 1px, 1px);height: 1px;margin: -1px;overflow: hidden;padding: 0;position: absolute;width: 1px;}#sk-container-id-4 div.sk-estimator {font-family: monospace;background-color: #f0f8ff;border: 1px dotted black;border-radius: 0.25em;box-sizing: border-box;margin-bottom: 0.5em;}#sk-container-id-4 div.sk-estimator:hover {background-color: #d4ebff;}#sk-container-id-4 div.sk-parallel-item::after {content: \"\";width: 100%;border-bottom: 1px solid gray;flex-grow: 1;}#sk-container-id-4 div.sk-label:hover label.sk-toggleable__label {background-color: #d4ebff;}#sk-container-id-4 div.sk-serial::before {content: \"\";position: absolute;border-left: 1px solid gray;box-sizing: border-box;top: 0;bottom: 0;left: 50%;z-index: 0;}#sk-container-id-4 div.sk-serial {display: flex;flex-direction: column;align-items: center;background-color: white;padding-right: 0.2em;padding-left: 0.2em;position: relative;}#sk-container-id-4 div.sk-item {position: relative;z-index: 1;}#sk-container-id-4 div.sk-parallel {display: flex;align-items: stretch;justify-content: center;background-color: white;position: relative;}#sk-container-id-4 div.sk-item::before, #sk-container-id-4 div.sk-parallel-item::before {content: \"\";position: absolute;border-left: 1px solid gray;box-sizing: border-box;top: 0;bottom: 0;left: 50%;z-index: -1;}#sk-container-id-4 div.sk-parallel-item {display: flex;flex-direction: column;z-index: 1;position: relative;background-color: white;}#sk-container-id-4 div.sk-parallel-item:first-child::after {align-self: flex-end;width: 50%;}#sk-container-id-4 div.sk-parallel-item:last-child::after {align-self: flex-start;width: 50%;}#sk-container-id-4 div.sk-parallel-item:only-child::after {width: 0;}#sk-container-id-4 div.sk-dashed-wrapped {border: 1px dashed gray;margin: 0 0.4em 0.5em 0.4em;box-sizing: border-box;padding-bottom: 0.4em;background-color: white;}#sk-container-id-4 div.sk-label label {font-family: monospace;font-weight: bold;display: inline-block;line-height: 1.2em;}#sk-container-id-4 div.sk-label-container {text-align: center;}#sk-container-id-4 div.sk-container {/* jupyter's `normalize.less` sets `[hidden] { display: none; }` but bootstrap.min.css set `[hidden] { display: none !important; }` so we also need the `!important` here to be able to override the default hidden behavior on the sphinx rendered scikit-learn.org. See: https://github.com/scikit-learn/scikit-learn/issues/21755 */display: inline-block !important;position: relative;}#sk-container-id-4 div.sk-text-repr-fallback {display: none;}</style><div id=\"sk-container-id-4\" class=\"sk-top-container\"><div class=\"sk-text-repr-fallback\"><pre>LogisticRegression(C=0.1)</pre><b>In a Jupyter environment, please rerun this cell to show the HTML representation or trust the notebook. <br />On GitHub, the HTML representation is unable to render, please try loading this page with nbviewer.org.</b></div><div class=\"sk-container\" hidden><div class=\"sk-item\"><div class=\"sk-estimator sk-toggleable\"><input class=\"sk-toggleable__control sk-hidden--visually\" id=\"sk-estimator-id-4\" type=\"checkbox\" checked><label for=\"sk-estimator-id-4\" class=\"sk-toggleable__label sk-toggleable__label-arrow\">LogisticRegression</label><div class=\"sk-toggleable__content\"><pre>LogisticRegression(C=0.1)</pre></div></div></div></div></div>"
      ],
      "text/plain": [
       "LogisticRegression(C=0.1)"
      ]
     },
     "execution_count": 64,
     "metadata": {},
     "output_type": "execute_result"
    }
   ],
   "source": [
    "lr.fit(X_train_f, y_train_f)"
   ]
  },
  {
   "cell_type": "code",
   "execution_count": 70,
   "metadata": {},
   "outputs": [],
   "source": [
    "y_pred_f = lr.predict(X_test_f)"
   ]
  },
  {
   "cell_type": "code",
   "execution_count": 71,
   "metadata": {},
   "outputs": [
    {
     "data": {
      "text/plain": [
       "1.0    2785\n",
       "0.0    2120\n",
       "Name: signal, dtype: int64"
      ]
     },
     "execution_count": 71,
     "metadata": {},
     "output_type": "execute_result"
    }
   ],
   "source": [
    "pd.DataFrame([y_pred_timestamp, y_pred_f], index= ['Timestamp','signal']).T.signal.value_counts()"
   ]
  },
  {
   "cell_type": "code",
   "execution_count": 72,
   "metadata": {},
   "outputs": [],
   "source": [
    "pd.DataFrame([y_pred_timestamp, y_pred_f], index= ['Timestamp','signal']).T.astype({'Timestamp':int}).to_csv('data/base_sub_lr.csv', index=False)"
   ]
  },
  {
   "cell_type": "code",
   "execution_count": 73,
   "metadata": {},
   "outputs": [
    {
     "data": {
      "text/plain": [
       "False    2471\n",
       "True     2434\n",
       "Name: signal, dtype: int64"
      ]
     },
     "execution_count": 73,
     "metadata": {},
     "output_type": "execute_result"
    }
   ],
   "source": [
    "(pd.read_csv('data/base_sub_lr.csv') == pd.read_csv('data/base_sub.csv')).signal.value_counts()"
   ]
  },
  {
   "cell_type": "code",
   "execution_count": null,
   "metadata": {},
   "outputs": [],
   "source": []
  }
 ],
 "metadata": {
  "kernelspec": {
   "display_name": "Python 3.8.10 ('Hack02')",
   "language": "python",
   "name": "python3"
  },
  "language_info": {
   "codemirror_mode": {
    "name": "ipython",
    "version": 3
   },
   "file_extension": ".py",
   "mimetype": "text/x-python",
   "name": "python",
   "nbconvert_exporter": "python",
   "pygments_lexer": "ipython3",
   "version": "3.8.10"
  },
  "orig_nbformat": 4,
  "vscode": {
   "interpreter": {
    "hash": "3fe9cce275d903f86c62d527a86143be5fdc205c3fe2ffaa229100406a6e60cb"
   }
  }
 },
 "nbformat": 4,
 "nbformat_minor": 2
}
